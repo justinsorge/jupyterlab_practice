{
 "cells": [
  {
   "cell_type": "markdown",
   "id": "3ce4b944-3c9c-4a0f-91b4-72fa2b6d7696",
   "metadata": {},
   "source": [
    "# Justin Sorge\n",
    "Notebook for assignment 7"
   ]
  },
  {
   "cell_type": "code",
   "execution_count": 2,
   "id": "692811bc-40f2-4da1-b33c-14f28a08c126",
   "metadata": {},
   "outputs": [
    {
     "data": {
      "text/plain": [
       "5.0"
      ]
     },
     "execution_count": 2,
     "metadata": {},
     "output_type": "execute_result"
    }
   ],
   "source": [
    "def compute_mean(list):\n",
    "    mean = sum(list) / len(list)\n",
    "    return mean\n",
    "\n",
    "compute_mean([2, 4, 6, 8])"
   ]
  },
  {
   "cell_type": "markdown",
   "id": "5d6b1c6e-406e-45a1-a4d4-189f6c8dfd91",
   "metadata": {},
   "source": [
    "`compute_mean` is a function written in python that will calculate the arithmetic mean of a series of numbers that are provided as a list. To calculate the mean, the function sums the series, then divides the sum into the count of numbers in the series. The formula for the mean is presented below:\n",
    "\n",
    "$$\n",
    "\\begin{equation}\n",
    "\\overline{x} = \\dfrac{x_1 + x_2 +...+ x_n}{n}=\\dfrac{1}{n} \\biggl(\\sum_{i=1}^n x_1 \\biggr)\n",
    "\\end{equation}\n",
    "$$"
   ]
  }
 ],
 "metadata": {
  "kernelspec": {
   "display_name": "Python [conda env:dstoolbox]",
   "language": "python",
   "name": "conda-env-dstoolbox-py"
  },
  "language_info": {
   "codemirror_mode": {
    "name": "ipython",
    "version": 3
   },
   "file_extension": ".py",
   "mimetype": "text/x-python",
   "name": "python",
   "nbconvert_exporter": "python",
   "pygments_lexer": "ipython3",
   "version": "3.12.3"
  }
 },
 "nbformat": 4,
 "nbformat_minor": 5
}
